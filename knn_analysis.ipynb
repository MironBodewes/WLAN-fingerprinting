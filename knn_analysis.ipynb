{
 "cells": [
  {
   "cell_type": "code",
   "execution_count": 11,
   "metadata": {},
   "outputs": [
    {
     "name": "stdout",
     "output_type": "stream",
     "text": [
      "   fingerprint x-pos y-pos            ssid                bssidd   \n",
      "0            0  None  None  b'wlan4things'  b'00:be:75:e7:7a:e9'  \\\n",
      "1            0  None  None  b'wlan4things'  b'84:78:ac:b8:b8:d6'   \n",
      "2            0  None  None  b'wlan4things'  b'f4:db:e6:f1:ba:87'   \n",
      "3            0  None  None  b'wlan4things'  b'00:be:75:e8:7d:86'   \n",
      "4            0  None  None  b'wlan4things'  b'f4:db:e6:f1:ba:88'   \n",
      "\n",
      "   signal_strength frequency_standard location_name  \n",
      "0               50        b'802.11ac'  flur0beis117  \n",
      "1               31        b' 802.11n'  flur0beis117  \n",
      "2               83        b'802.11ac'  flur0beis117  \n",
      "3               31        b' 802.11n'  flur0beis117  \n",
      "4               81        b' 802.11n'  flur0beis117  \n",
      "   fingerprint                bssidd  signal_strength location_name\n",
      "0            0  b'00:be:75:e7:7a:e9'               50  flur0beis117\n",
      "1            0  b'84:78:ac:b8:b8:d6'               31  flur0beis117\n",
      "2            0  b'f4:db:e6:f1:ba:87'               83  flur0beis117\n",
      "3            0  b'00:be:75:e8:7d:86'               31  flur0beis117\n",
      "4            0  b'f4:db:e6:f1:ba:88'               81  flur0beis117\n"
     ]
    }
   ],
   "source": [
    "import numpy as np\n",
    "import pandas as pd\n",
    "import matplotlib.pyplot as plt\n",
    "config_df = pd.read_csv(\"data/config.csv\")\n",
    "# fingerprint_count formerly fingerprint_number is the count of\n",
    "amount_of_fingerprints = config_df.loc[:, 'fingerprint_id'][0]\n",
    "# fingerprints. fingerprint_id should be the individual id of a fingerprint\n",
    "\n",
    "ACCESSPOINTS_PATH=\"data/accesspoints.pkl\"\n",
    "df:pd.DataFrame = pd.read_pickle(ACCESSPOINTS_PATH)\n",
    "print(df.head())\n",
    "plt.show()\n",
    "df.drop(columns=[\"x-pos\",\"y-pos\",\"ssid\",\"frequency_standard\"],inplace=True)\n",
    "print(df.head())\n",
    "\n",
    "#old format: \n",
    "# id fingerprint                bssidd  signal_strength location_name\n",
    "# 0            0  b'00:be:75:e7:7a:e9'               50  flur0beis117\n",
    "\n",
    "#new format:\n",
    "# id location_name                 bssidd  signal_strength \n",
    "# 0  flur0beis117    b'00:be:75:e7:7a:e9'               50  "
   ]
  }
 ],
 "metadata": {
  "kernelspec": {
   "display_name": "Python 3",
   "language": "python",
   "name": "python3"
  },
  "language_info": {
   "codemirror_mode": {
    "name": "ipython",
    "version": 3
   },
   "file_extension": ".py",
   "mimetype": "text/x-python",
   "name": "python",
   "nbconvert_exporter": "python",
   "pygments_lexer": "ipython3",
   "version": "3.11.0"
  }
 },
 "nbformat": 4,
 "nbformat_minor": 2
}

{
 "cells": [
  {
   "cell_type": "markdown",
   "metadata": {},
   "source": [
    "Der Plan ist, dass man auf einer Karte den aktuellen Ort klickt, und das dann ein WLAN-Fingerprint erzeugt wird und mit den x- und y-Daten abgespeichert wird.\n",
    "Für das Format der Daten halte ich mich an das PDF https://www.mobile.ifi.lmu.de/wp-content/uploads/2015/03/03_wlan_positionierung.pdf"
   ]
  },
  {
   "cell_type": "code",
   "execution_count": null,
   "metadata": {},
   "outputs": [],
   "source": []
  }
 ],
 "metadata": {
  "language_info": {
   "name": "python"
  }
 },
 "nbformat": 4,
 "nbformat_minor": 2
}
